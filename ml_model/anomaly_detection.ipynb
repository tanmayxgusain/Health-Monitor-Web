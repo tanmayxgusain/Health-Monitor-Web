{
 "cells": [
  {
   "cell_type": "code",
   "execution_count": null,
   "id": "097155c6",
   "metadata": {
    "vscode": {
     "languageId": "plaintext"
    }
   },
   "outputs": [],
   "source": [
    "import pandas as pd\n",
    "import os\n",
    "\n",
    "# Set path to your demo CSV files\n",
    "DATA_DIR = \"../mimic_demo_data\"\n",
    "\n",
    "# Load basic tables\n",
    "patients = pd.read_csv(os.path.join(DATA_DIR, \"PATIENTS.csv\"))\n",
    "admissions = pd.read_csv(os.path.join(DATA_DIR, \"ADMISSIONS.csv\"))\n",
    "chartevents = pd.read_csv(os.path.join(DATA_DIR, \"CHARTEVENTS.csv\"), nrows=50000)  # Load first 50K rows for demo\n",
    "\n",
    "print(\"Patients:\", patients.shape)\n",
    "print(\"Admissions:\", admissions.shape)\n",
    "print(\"Chartevents:\", chartevents.shape)\n",
    "\n",
    "chartevents.head()\n"
   ]
  }
 ],
 "metadata": {
  "language_info": {
   "name": "python"
  }
 },
 "nbformat": 4,
 "nbformat_minor": 5
}
