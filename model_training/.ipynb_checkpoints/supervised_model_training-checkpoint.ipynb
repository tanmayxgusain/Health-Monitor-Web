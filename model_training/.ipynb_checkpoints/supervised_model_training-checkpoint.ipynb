{
 "cells": [
  {
   "cell_type": "code",
   "execution_count": 1,
   "id": "8c5ea939-48f5-4a3b-9006-43db4305a315",
   "metadata": {},
   "outputs": [
    {
     "name": "stdout",
     "output_type": "stream",
     "text": [
      "✅ Supervised model and scaler saved.\n"
     ]
    }
   ],
   "source": [
    "# supervised_model_training.ipynb (new or reuse existing notebook)\n",
    "\n",
    "import pandas as pd\n",
    "import numpy as np\n",
    "from sklearn.model_selection import train_test_split\n",
    "from sklearn.ensemble import RandomForestClassifier\n",
    "from sklearn.preprocessing import StandardScaler\n",
    "import joblib\n",
    "\n",
    "# Load the dataset (same as before)\n",
    "df = pd.read_csv(\"../mimic_demo_data/chartevents.csv\", low_memory=False)\n",
    "\n",
    "# Relevant ITEMIDs\n",
    "vital_ids = {\n",
    "    211: \"heart_rate\",\n",
    "    220045: \"spo2\",\n",
    "    220179: \"systolic_bp\",\n",
    "    220180: \"diastolic_bp\",\n",
    "}\n",
    "\n",
    "# Filter vitals\n",
    "vitals = df[df[\"itemid\"].isin(vital_ids.keys())].copy()\n",
    "vitals[\"label\"] = vitals[\"itemid\"].map(vital_ids)\n",
    "vitals[\"charttime\"] = pd.to_datetime(vitals[\"charttime\"])\n",
    "vitals[\"valuenum\"] = pd.to_numeric(vitals[\"valuenum\"], errors=\"coerce\")\n",
    "vitals.dropna(subset=[\"valuenum\"], inplace=True)\n",
    "\n",
    "# Pivot\n",
    "pivot = vitals.pivot_table(\n",
    "    index=[\"subject_id\", \"charttime\"],\n",
    "    columns=\"label\",\n",
    "    values=\"valuenum\",\n",
    "    aggfunc=\"mean\"\n",
    ").reset_index()\n",
    "\n",
    "pivot.dropna(thresh=3, inplace=True)\n",
    "\n",
    "# Inject fake anomalies (extreme values)\n",
    "fake_anomalies = pd.DataFrame({\n",
    "    \"subject_id\": [999999]*10,\n",
    "    \"charttime\": pd.date_range(start=\"2100-01-01\", periods=10, freq=\"h\"),\n",
    "    \"heart_rate\": [200, 210, 190, 195, 220, 180, 205, 215, 225, 230],\n",
    "    \"spo2\": [60, 58, 62, 65, 59, 55, 57, 61, 63, 64],\n",
    "    \"systolic_bp\": [250, 260, 255, 245, 270, 240, 265, 275, 280, 285],\n",
    "    \"diastolic_bp\": [180, 170, 175, 165, 185, 160, 190, 195, 200, 205],\n",
    "})\n",
    "fake_anomalies[\"label\"] = 1  # Anomaly\n",
    "\n",
    "# Normal data = label 0\n",
    "pivot[\"label\"] = 0\n",
    "\n",
    "# Combine\n",
    "combined = pd.concat([pivot, fake_anomalies], ignore_index=True)\n",
    "\n",
    "# Fill missing\n",
    "combined.ffill(inplace=True)\n",
    "combined.dropna(inplace=True)\n",
    "\n",
    "# Features\n",
    "features = [\"heart_rate\", \"spo2\", \"systolic_bp\", \"diastolic_bp\"]\n",
    "X = combined[features]\n",
    "y = combined[\"label\"]\n",
    "\n",
    "# Scale\n",
    "scaler = StandardScaler()\n",
    "X_scaled = scaler.fit_transform(X)\n",
    "\n",
    "# Train classifier\n",
    "clf = RandomForestClassifier(n_estimators=100, random_state=42)\n",
    "clf.fit(X_scaled, y)\n",
    "\n",
    "# Save\n",
    "joblib.dump(clf, \"../backend/ml_models/anomaly_classifier.pkl\")\n",
    "joblib.dump(scaler, \"../backend/ml_models/supervised_scaler.pkl\")\n",
    "\n",
    "print(\"✅ Supervised model and scaler saved.\")\n"
   ]
  },
  {
   "cell_type": "code",
   "execution_count": 2,
   "id": "f727647a-0b63-4ca3-920c-c0e0d53fc4bf",
   "metadata": {},
   "outputs": [
    {
     "name": "stdout",
     "output_type": "stream",
     "text": [
      "✅ Retrained model and scaler saved.\n"
     ]
    }
   ],
   "source": [
    "from sklearn.ensemble import IsolationForest\n",
    "from sklearn.preprocessing import StandardScaler\n",
    "import joblib\n",
    "\n",
    "# Step 1: Select features\n",
    "features = [\"heart_rate\", \"spo2\", \"systolic_bp\", \"diastolic_bp\"]\n",
    "X = combined[features]\n",
    "\n",
    "# Step 2: Normalize (fit new scaler)\n",
    "scaler = StandardScaler()\n",
    "X_scaled = scaler.fit_transform(X)\n",
    "\n",
    "# Step 3: Retrain model\n",
    "model = IsolationForest(contamination=0.1, random_state=42)\n",
    "model.fit(X_scaled)\n",
    "\n",
    "# Step 4: Predict\n",
    "combined[\"anomaly\"] = model.predict(X_scaled)\n",
    "combined[\"anomaly_score\"] = model.decision_function(X_scaled)\n",
    "\n",
    "# Step 5: Save model & scaler for FastAPI backend\n",
    "joblib.dump(model, \"../backend/ml_models/isolation_forest_model.pkl\")\n",
    "joblib.dump(scaler, \"../backend/ml_models/scaler.pkl\")\n",
    "\n",
    "print(\"✅ Retrained model and scaler saved.\")\n"
   ]
  },
  {
   "cell_type": "code",
   "execution_count": null,
   "id": "a5d22fa0-056a-41f3-a710-eb2445f2d3aa",
   "metadata": {},
   "outputs": [],
   "source": [
    "import seaborn as sns\n",
    "import matplotlib.pyplot as plt\n",
    "\n",
    "plt.figure(figsize=(12, 5))\n",
    "sns.lineplot(data=combined, x=\"charttime\", y=\"heart_rate\", label=\"Heart Rate\")\n",
    "sns.scatterplot(\n",
    "    data=combined[combined[\"anomaly\"] == -1],\n",
    "    x=\"charttime\", y=\"heart_rate\", color=\"red\", label=\"Anomaly\"\n",
    ")\n",
    "plt.xticks(rotation=45)\n",
    "plt.title(\"Heart Rate Anomalies (Red)\")\n",
    "plt.tight_layout()\n",
    "plt.show()\n"
   ]
  }
 ],
 "metadata": {
  "kernelspec": {
   "display_name": "Python 3 (ipykernel)",
   "language": "python",
   "name": "python3"
  },
  "language_info": {
   "codemirror_mode": {
    "name": "ipython",
    "version": 3
   },
   "file_extension": ".py",
   "mimetype": "text/x-python",
   "name": "python",
   "nbconvert_exporter": "python",
   "pygments_lexer": "ipython3",
   "version": "3.12.4"
  }
 },
 "nbformat": 4,
 "nbformat_minor": 5
}
